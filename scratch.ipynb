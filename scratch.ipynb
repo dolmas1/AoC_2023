{
 "cells": [
  {
   "cell_type": "code",
   "execution_count": 117,
   "id": "6ad2eb9a-56ca-4362-9f69-3c1a5e4bc04f",
   "metadata": {},
   "outputs": [],
   "source": [
    "#!/usr/bin/env python\n",
    "import math\n",
    "\n",
    "sample = 0\n",
    "\n",
    "if sample == True:\n",
    "    filename = \"inputs/day09_sample.txt\"\n",
    "else:\n",
    "    filename = \"inputs/day09.txt\"\n",
    "\n",
    "with open(filename) as f:\n",
    "    input = f.read().splitlines()"
   ]
  },
  {
   "cell_type": "code",
   "execution_count": 74,
   "id": "6b04bcd0-12e8-4b01-be3b-71512c9af8d7",
   "metadata": {},
   "outputs": [],
   "source": [
    "def parse(input):\n",
    "    inputs = []\n",
    "    for l in input:\n",
    "        inputs.append([int(x) for x in l.split(' ')])\n",
    "\n",
    "    return inputs"
   ]
  },
  {
   "cell_type": "code",
   "execution_count": 75,
   "id": "bb77b439-e1b7-45fc-86bc-a7e2c9d915b7",
   "metadata": {},
   "outputs": [],
   "source": [
    "def get_diffs(line):\n",
    "    diffs = [line[i+1] - v for i, v in enumerate(line[:-1])]\n",
    "    if all(v == 0 for v in diffs):\n",
    "        is_done = True\n",
    "    else:\n",
    "        is_done = False\n",
    "    last_val = diffs[-1]\n",
    "    first_val = diffs[0]\n",
    "    return diffs, is_done, first_val, last_val"
   ]
  },
  {
   "cell_type": "code",
   "execution_count": 107,
   "id": "a3dfa667-5968-42dc-9a53-8119fa840f4f",
   "metadata": {},
   "outputs": [],
   "source": [
    "def solve_line(line):\n",
    "    is_done = False\n",
    "    last_vals = []\n",
    "    first_vals = []\n",
    "    diffs = line\n",
    "    while not is_done:\n",
    "        diffs, is_done, first_val, last_val = get_diffs(diffs)\n",
    "        last_vals.append(last_val)\n",
    "        first_vals.append(first_val)\n",
    "    next_val = sum(last_vals) + line[-1]\n",
    "    prev_val = [0]\n",
    "    for i, v in enumerate(first_vals[::-1]): # obvs this is dum\n",
    "        prev_val.append(v - prev_val[i])\n",
    "    prev_val = line[0] - sum(prev_val)\n",
    "    \n",
    "    return next_val, prev_val"
   ]
  },
  {
   "cell_type": "code",
   "execution_count": 110,
   "id": "3adceb91-34d5-4ec3-8d45-754b595219b1",
   "metadata": {},
   "outputs": [
    {
     "data": {
      "text/plain": [
       "(68, 5)"
      ]
     },
     "execution_count": 110,
     "metadata": {},
     "output_type": "execute_result"
    }
   ],
   "source": [
    "line = [10,  13,  16,  21,  30,  45]\n",
    "solve_line(line)"
   ]
  },
  {
   "cell_type": "code",
   "execution_count": 111,
   "id": "86ad06ca-aa53-4e75-a787-b338f545a610",
   "metadata": {},
   "outputs": [
    {
     "data": {
      "text/plain": [
       "(18, -3)"
      ]
     },
     "execution_count": 111,
     "metadata": {},
     "output_type": "execute_result"
    }
   ],
   "source": [
    "line = [0,   3,   6,   9,  12,  15]\n",
    "solve_line(line)"
   ]
  },
  {
   "cell_type": "code",
   "execution_count": 112,
   "id": "0b9f2267-da3e-40b8-869c-cb74419d0d5e",
   "metadata": {},
   "outputs": [
    {
     "data": {
      "text/plain": [
       "(28, -1)"
      ]
     },
     "execution_count": 112,
     "metadata": {},
     "output_type": "execute_result"
    }
   ],
   "source": [
    "line = [1, 3, 6, 10, 15, 21]\n",
    "solve_line(line)"
   ]
  },
  {
   "cell_type": "code",
   "execution_count": 84,
   "id": "15162ec2-18ad-4723-8a94-191806c289d5",
   "metadata": {},
   "outputs": [],
   "source": [
    "first_vals = [3,0,2,0]"
   ]
  },
  {
   "cell_type": "code",
   "execution_count": 90,
   "id": "7c876451-3687-4f08-8f2e-10ab6952a024",
   "metadata": {},
   "outputs": [],
   "source": [
    "construct = [0]"
   ]
  },
  {
   "cell_type": "code",
   "execution_count": 101,
   "id": "989819b1-2035-4143-bac1-baa80965daeb",
   "metadata": {},
   "outputs": [
    {
     "name": "stdout",
     "output_type": "stream",
     "text": [
      "0 0\n",
      "0\n",
      "1 2\n",
      "2\n",
      "2 0\n",
      "-2\n",
      "3 3\n",
      "5\n"
     ]
    }
   ],
   "source": [
    "for i, v in enumerate(first_vals[::-1]):\n",
    "    print(i, v)\n",
    "    print(v - construct[i])\n",
    "    construct.append(v - construct[i])"
   ]
  },
  {
   "cell_type": "code",
   "execution_count": 102,
   "id": "3ca789d4-445a-4797-8c89-2a6da4f24079",
   "metadata": {},
   "outputs": [
    {
     "data": {
      "text/plain": [
       "[0, 0, 2, -2, 5]"
      ]
     },
     "execution_count": 102,
     "metadata": {},
     "output_type": "execute_result"
    }
   ],
   "source": [
    "construct"
   ]
  },
  {
   "cell_type": "code",
   "execution_count": null,
   "id": "35274fcc-516f-492f-a661-24afba2549f9",
   "metadata": {},
   "outputs": [],
   "source": [
    "5  10  13  16  21  30  45\n",
    "  5   3   3   5   9  15\n",
    "   -2   0   2   4   6\n",
    "      2   2   2   2\n",
    "        0   0   0"
   ]
  },
  {
   "cell_type": "code",
   "execution_count": 108,
   "id": "6c76fdbf-7f33-4a18-8420-88d20b5fd112",
   "metadata": {},
   "outputs": [],
   "source": [
    "def solve(input):\n",
    "    inputs = parse(input)\n",
    "    zips = list(zip(*[solve_line(l) for l in inputs]))\n",
    "    ans_1 = sum(zips[0])\n",
    "    ans_2 = sum(zips[1])\n",
    "    return ans_1, ans_2"
   ]
  },
  {
   "cell_type": "code",
   "execution_count": 118,
   "id": "c0fe483b-db80-46e9-9cc9-6fbc79d807b0",
   "metadata": {},
   "outputs": [
    {
     "data": {
      "text/plain": [
       "(1995001648, 988)"
      ]
     },
     "execution_count": 118,
     "metadata": {},
     "output_type": "execute_result"
    }
   ],
   "source": [
    "solve(input)"
   ]
  },
  {
   "cell_type": "code",
   "execution_count": 114,
   "id": "b22bc6a7-3a00-4512-bb95-667ed9cee093",
   "metadata": {},
   "outputs": [
    {
     "data": {
      "text/plain": [
       "[21, 15, 10, 6, 3, 1]"
      ]
     },
     "execution_count": 114,
     "metadata": {},
     "output_type": "execute_result"
    }
   ],
   "source": [
    "line[::-1]"
   ]
  },
  {
   "cell_type": "code",
   "execution_count": null,
   "id": "05bead88-c6cd-4b22-90e8-79a213017b22",
   "metadata": {},
   "outputs": [],
   "source": []
  },
  {
   "cell_type": "code",
   "execution_count": null,
   "id": "87c396d3-6f23-485e-8e0a-0a5c02fd7211",
   "metadata": {},
   "outputs": [],
   "source": []
  },
  {
   "cell_type": "code",
   "execution_count": 133,
   "id": "18bfa61c-e55f-473f-a91b-b91a1693a470",
   "metadata": {},
   "outputs": [
    {
     "name": "stdout",
     "output_type": "stream",
     "text": [
      "11309\n",
      "13740108158591\n"
     ]
    }
   ],
   "source": [
    "ans_1, ans_2 = solve(input)\n",
    "print(ans_1)\n",
    "print(ans_2)"
   ]
  },
  {
   "cell_type": "code",
   "execution_count": null,
   "id": "5c820278-f9e9-42e2-ba6c-ad8f30ae9762",
   "metadata": {},
   "outputs": [],
   "source": []
  },
  {
   "cell_type": "code",
   "execution_count": null,
   "id": "d6e4c913-627d-4048-9f43-74e2d5ff8b0a",
   "metadata": {},
   "outputs": [],
   "source": []
  },
  {
   "cell_type": "code",
   "execution_count": null,
   "id": "219bd2ff-cecf-416c-9a93-e8fa84533aa1",
   "metadata": {},
   "outputs": [],
   "source": []
  },
  {
   "cell_type": "code",
   "execution_count": null,
   "id": "eeab7b11-1940-4f0d-ba4a-803011b6d59f",
   "metadata": {},
   "outputs": [],
   "source": []
  },
  {
   "cell_type": "code",
   "execution_count": null,
   "id": "5fb37371-7837-4e7a-813e-49a84ff83a2a",
   "metadata": {},
   "outputs": [],
   "source": []
  }
 ],
 "metadata": {
  "kernelspec": {
   "display_name": "Python 3 (ipykernel)",
   "language": "python",
   "name": "python3"
  },
  "language_info": {
   "codemirror_mode": {
    "name": "ipython",
    "version": 3
   },
   "file_extension": ".py",
   "mimetype": "text/x-python",
   "name": "python",
   "nbconvert_exporter": "python",
   "pygments_lexer": "ipython3",
   "version": "3.11.5"
  }
 },
 "nbformat": 4,
 "nbformat_minor": 5
}
