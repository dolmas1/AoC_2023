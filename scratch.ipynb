{
 "cells": [
  {
   "cell_type": "code",
   "execution_count": 111,
   "id": "6ad2eb9a-56ca-4362-9f69-3c1a5e4bc04f",
   "metadata": {},
   "outputs": [],
   "source": [
    "#!/usr/bin/env python\n",
    "import re\n",
    "\n",
    "sample = 0\n",
    "\n",
    "if sample == True:\n",
    "    filename = \"inputs/day07_sample.txt\"\n",
    "else:\n",
    "    filename = \"inputs/day07.txt\"\n",
    "\n",
    "with open(filename) as f:\n",
    "    input = f.read().splitlines()"
   ]
  },
  {
   "cell_type": "code",
   "execution_count": 100,
   "id": "6b04bcd0-12e8-4b01-be3b-71512c9af8d7",
   "metadata": {},
   "outputs": [],
   "source": [
    "def parse_pt1(input):\n",
    "    hands = []\n",
    "    bids = []\n",
    "    for l in input:\n",
    "        hand, bid = l.split()\n",
    "        hands.append(hand)\n",
    "        bids.append(int(bid))\n",
    "\n",
    "    return hands, bids"
   ]
  },
  {
   "cell_type": "code",
   "execution_count": 109,
   "id": "76f07837-9a60-41d7-8444-15008ed1a63e",
   "metadata": {},
   "outputs": [],
   "source": [
    "def hand_type(hand):\n",
    "    \n",
    "    counts = []\n",
    "    for c in set(hand):\n",
    "        counts.append(hand.count(c))\n",
    "    counts.sort(reverse = True)\n",
    "    \n",
    "    if counts[0] == 5:\n",
    "        hand_type = '1' # five kind\n",
    "    elif counts[0] == 4:\n",
    "        hand_type = '2' # four kind\n",
    "    elif counts[0] == 3 and counts[1] == 2:\n",
    "        hand_type = '3' # full house\n",
    "    elif counts[0] == 3:\n",
    "        hand_type = '4' # three kind\n",
    "    elif counts[1] == 2:\n",
    "        hand_type = '5' # two pair\n",
    "    elif counts[0] == 2:\n",
    "        hand_type = '6' # pair\n",
    "    else:\n",
    "        hand_type = '7' # high card\n",
    "    \n",
    "    return hand_type"
   ]
  },
  {
   "cell_type": "code",
   "execution_count": 102,
   "id": "2eb96314-2e27-42e1-9c40-dbda905981d7",
   "metadata": {},
   "outputs": [],
   "source": [
    "def improve_hand(hand):\n",
    "    if 'J' in hand:\n",
    "        if hand == 'JJJJJ':\n",
    "            return 'AAAAA'\n",
    "        else:\n",
    "            rest_of_hand = [c for c in hand if c != 'J']\n",
    "            best_replacement = max(set(rest_of_hand), key=rest_of_hand.count)\n",
    "            return re.sub(r'J', best_replacement, hand)\n",
    "    else:\n",
    "        return hand"
   ]
  },
  {
   "cell_type": "code",
   "execution_count": 108,
   "id": "ea03b6ed-176f-4938-a0d4-1785b43afbfd",
   "metadata": {},
   "outputs": [],
   "source": [
    "def solve(input):\n",
    "    hands, bids = parse_pt1(input)\n",
    "\n",
    "    rank_single_map_pt1 = {'A':'01',\n",
    "        'K':'02',\n",
    "        'Q':'03',\n",
    "        'J':'04',\n",
    "        'T':'05',\n",
    "        '9':'06',\n",
    "        '8':'07',\n",
    "        '7':'08',\n",
    "        '6':'09',\n",
    "        '5':'10',\n",
    "        '4':'11',\n",
    "        '3':'12',\n",
    "        '2':'13'}\n",
    "    \n",
    "    hand_ranks = [hand_type(h) + ''.join([rank_single_map_pt1[c] for c in h]) for h in hands]\n",
    "\n",
    "    hand_ranks, hands, bids = (list(t) for t in zip(*sorted(zip(hand_ranks, hands, bids), reverse=True)))\n",
    "\n",
    "    ans_1 = sum([bid * (i + 1) for i, bid in enumerate(bids)])\n",
    "\n",
    "    rank_single_map_pt2 = {'A':'01',\n",
    "        'K':'02',\n",
    "        'Q':'03',\n",
    "        'J':'14',\n",
    "        'T':'05',\n",
    "        '9':'06',\n",
    "        '8':'07',\n",
    "        '7':'08',\n",
    "        '6':'09',\n",
    "        '5':'10',\n",
    "        '4':'11',\n",
    "        '3':'12',\n",
    "        '2':'13'}\n",
    "    \n",
    "    hand_ranks = [hand_type(improve_hand(h)) + ''.join([rank_single_map_pt2[c] for c in h]) for h in hands]\n",
    "\n",
    "    hand_ranks, hands, bids = (list(t) for t in zip(*sorted(zip(hand_ranks, hands, bids), reverse=True)))\n",
    "\n",
    "    ans_2 = sum([bid * (i + 1) for i, bid in enumerate(bids)])\n",
    "    \n",
    "    return ans_1, ans_2"
   ]
  },
  {
   "cell_type": "code",
   "execution_count": 112,
   "id": "476ab231-a74a-4c70-916d-7b015a3f3ec8",
   "metadata": {},
   "outputs": [
    {
     "name": "stdout",
     "output_type": "stream",
     "text": [
      "253954294\n",
      "254837398\n"
     ]
    }
   ],
   "source": [
    "ans_1, ans_2 = solve(input)\n",
    "print(ans_1)\n",
    "print(ans_2)"
   ]
  },
  {
   "cell_type": "code",
   "execution_count": null,
   "id": "5c820278-f9e9-42e2-ba6c-ad8f30ae9762",
   "metadata": {},
   "outputs": [],
   "source": []
  },
  {
   "cell_type": "code",
   "execution_count": null,
   "id": "d6e4c913-627d-4048-9f43-74e2d5ff8b0a",
   "metadata": {},
   "outputs": [],
   "source": []
  },
  {
   "cell_type": "code",
   "execution_count": null,
   "id": "219bd2ff-cecf-416c-9a93-e8fa84533aa1",
   "metadata": {},
   "outputs": [],
   "source": []
  },
  {
   "cell_type": "code",
   "execution_count": null,
   "id": "eeab7b11-1940-4f0d-ba4a-803011b6d59f",
   "metadata": {},
   "outputs": [],
   "source": []
  },
  {
   "cell_type": "code",
   "execution_count": null,
   "id": "5fb37371-7837-4e7a-813e-49a84ff83a2a",
   "metadata": {},
   "outputs": [],
   "source": []
  }
 ],
 "metadata": {
  "kernelspec": {
   "display_name": "Python 3 (ipykernel)",
   "language": "python",
   "name": "python3"
  },
  "language_info": {
   "codemirror_mode": {
    "name": "ipython",
    "version": 3
   },
   "file_extension": ".py",
   "mimetype": "text/x-python",
   "name": "python",
   "nbconvert_exporter": "python",
   "pygments_lexer": "ipython3",
   "version": "3.11.5"
  }
 },
 "nbformat": 4,
 "nbformat_minor": 5
}
