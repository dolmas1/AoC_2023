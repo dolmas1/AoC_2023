{
 "cells": [
  {
   "cell_type": "code",
   "execution_count": 95,
   "id": "6ad2eb9a-56ca-4362-9f69-3c1a5e4bc04f",
   "metadata": {},
   "outputs": [],
   "source": [
    "#!/usr/bin/env python\n",
    "import math\n",
    "\n",
    "sample = 0\n",
    "\n",
    "if sample == True:\n",
    "    filename = \"inputs/day06_sample.txt\"\n",
    "else:\n",
    "    filename = \"inputs/day06.txt\"\n",
    "\n",
    "with open(filename) as f:\n",
    "    input = f.read().splitlines()"
   ]
  },
  {
   "cell_type": "code",
   "execution_count": 44,
   "id": "d9a81f90-d744-461c-b05b-8fdc402eadfd",
   "metadata": {},
   "outputs": [
    {
     "data": {
      "text/plain": [
       "['Time:      7  15   30', 'Distance:  9  40  200']"
      ]
     },
     "execution_count": 44,
     "metadata": {},
     "output_type": "execute_result"
    }
   ],
   "source": [
    "input"
   ]
  },
  {
   "cell_type": "code",
   "execution_count": 85,
   "id": "6b04bcd0-12e8-4b01-be3b-71512c9af8d7",
   "metadata": {},
   "outputs": [],
   "source": [
    "def parse_pt1(input):\n",
    "    times = [int(x) for x in input[0][5:].split()]\n",
    "    goals = [int(x) for x in input[1][9:].split()]\n",
    "    return times, goals"
   ]
  },
  {
   "cell_type": "code",
   "execution_count": 86,
   "id": "b90f0388-5a93-4301-9cc5-2efa625f4ddf",
   "metadata": {},
   "outputs": [],
   "source": [
    "def parse_pt2(input):\n",
    "    time = int(input[0][5:].replace(' ', ''))\n",
    "    goal = int(input[1][9:].replace(' ', ''))\n",
    "    return time, goal"
   ]
  },
  {
   "cell_type": "code",
   "execution_count": 104,
   "id": "beb8566c-9ad3-44e6-96a4-3aee727195a8",
   "metadata": {},
   "outputs": [],
   "source": [
    "def solve(input):\n",
    "    times, goals = parse_pt1(input)\n",
    "\n",
    "    ans_1 = 1\n",
    "    for time, goal in zip(times, goals):\n",
    "        choices = [i for i in range(1,time)]\n",
    "        distance = [c * (time - c) for c in choices]\n",
    "        count_beaten = sum([a > goal for a in distance])\n",
    "        ans_1 *= count_beaten\n",
    "\n",
    "    time, goal = parse_pt2(input)\n",
    "\n",
    "    # naive method for Pt2\n",
    "    #choices = [i for i in range(1,time)]\n",
    "    #distance = [c * (time - c) for c in choices]\n",
    "    #count_beaten = sum([a > goal for a in distance])\n",
    "    #ans_2 = count_beaten\n",
    "\n",
    "    # use quadratic formula instead\n",
    "    first_beaten = math.floor((float((-1*time)) - float((time ** 2 - (4 *goal)))** 0.5) / (-2))\n",
    "    ans_2 = 1 + 2 * first_beaten - time\n",
    "    \n",
    "    return ans_1, ans_2"
   ]
  },
  {
   "cell_type": "code",
   "execution_count": 105,
   "id": "1ad5c100-1d99-470b-b1ed-c98f510c5706",
   "metadata": {},
   "outputs": [
    {
     "name": "stdout",
     "output_type": "stream",
     "text": [
      "3316275\n",
      "27102791\n"
     ]
    }
   ],
   "source": [
    "ans_1, ans_2 = solve(input)\n",
    "print(ans_1)\n",
    "print(ans_2)"
   ]
  }
 ],
 "metadata": {
  "kernelspec": {
   "display_name": "Python 3 (ipykernel)",
   "language": "python",
   "name": "python3"
  },
  "language_info": {
   "codemirror_mode": {
    "name": "ipython",
    "version": 3
   },
   "file_extension": ".py",
   "mimetype": "text/x-python",
   "name": "python",
   "nbconvert_exporter": "python",
   "pygments_lexer": "ipython3",
   "version": "3.11.5"
  }
 },
 "nbformat": 4,
 "nbformat_minor": 5
}
