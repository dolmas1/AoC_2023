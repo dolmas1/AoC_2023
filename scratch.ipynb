{
 "cells": [
  {
   "cell_type": "code",
   "execution_count": 200,
   "id": "6ad2eb9a-56ca-4362-9f69-3c1a5e4bc04f",
   "metadata": {},
   "outputs": [],
   "source": [
    "#!/usr/bin/env python\n",
    "import re\n",
    "\n",
    "filename = \"inputs/day03.txt\"\n",
    "#filename = \"inputs/day03_sample.txt\"\n",
    "\n",
    "with open(filename) as f:\n",
    "    input = f.read().splitlines()"
   ]
  },
  {
   "cell_type": "code",
   "execution_count": 197,
   "id": "d95db395-e034-4205-8b63-53d11ec11f02",
   "metadata": {},
   "outputs": [],
   "source": [
    "def check_neighbourhood(input, span, n = 1):\n",
    "    '''\n",
    "    Check whether a given number is a part number\n",
    "\n",
    "            Parameters:\n",
    "                    input (list): input grid (list of strings)\n",
    "                    span (list): [[0,1], [0,3]] if number being checked starts in row 0, col 1, and ends in row 0, col 3\n",
    "                    n (int): how many positions (in any direction) far away count as 'adjacent'\n",
    "\n",
    "            Returns:\n",
    "                    bool: whether a character was found in the vicinity of the number\n",
    "    '''\n",
    "\n",
    "    start_i = span[0][0]\n",
    "    start_j = span[0][1]\n",
    "    end_i = span[1][0]\n",
    "    end_j = span[1][1]\n",
    "\n",
    "    # determine the boundaries of neighbourhood to search:\n",
    "    neighbourhood_min_i = max(0, start_i - n)\n",
    "    neighbourhood_max_i = min(len(input)-1, end_i + n)\n",
    "    neighbourhood_min_j = max(0, start_j - n)\n",
    "    neighbourhood_max_j = min(len(input[0])-1, end_j + n)\n",
    "    \n",
    "    # search until you find a symbol:\n",
    "    for i in range(neighbourhood_min_i, neighbourhood_max_i+1):\n",
    "        for j in range(neighbourhood_min_j, neighbourhood_max_j+1):\n",
    "            if re.match('[^\\d\\.]', input[i][j]): \n",
    "                return True\n",
    "\n",
    "    return False"
   ]
  },
  {
   "cell_type": "code",
   "execution_count": 193,
   "id": "e958f448-9f40-4b94-b9c8-0b10a911c438",
   "metadata": {},
   "outputs": [],
   "source": [
    "def find_numbers(input):\n",
    "    \"Find all numbers, along with their respecitive location/spans\"\n",
    "    nums = []\n",
    "    num_spans = []\n",
    "    \n",
    "    \n",
    "    for i, l in enumerate(input):\n",
    "        for match in re.finditer(r'(\\d+)', l):\n",
    "            nums.append(int(match.group()))\n",
    "            num_spans.append([[i, match.span()[0]], [i, match.span()[1]-1]])\n",
    "\n",
    "    return nums, num_spans"
   ]
  },
  {
   "cell_type": "code",
   "execution_count": 189,
   "id": "f66cd347-6519-4f8d-bcf3-ae3394036f0c",
   "metadata": {},
   "outputs": [],
   "source": [
    "def find_potential_gears(input):\n",
    "    \"Returns the [i,j] locations of all * characters\"\n",
    "    potential_gears = []\n",
    "    for i, l in enumerate(input):\n",
    "            for match in re.finditer(r'(\\*)', l):\n",
    "\n",
    "                potential_gears.append([i, match.span()[0]])\n",
    "    return potential_gears"
   ]
  },
  {
   "cell_type": "code",
   "execution_count": 187,
   "id": "3c5e3cea-5039-40b9-af7b-3d4dce96ef7a",
   "metadata": {},
   "outputs": [],
   "source": [
    "def is_adjacent(potential_gear, num_span):\n",
    "    \"given a potential gear [i, j], check against num_span [[i,j], [i,j]] and return whether num_span is adjacent to gear\"\n",
    "\n",
    "    min_i = min(num_span[0][0]-1, num_span[1][0]-1)\n",
    "    max_i = max(num_span[0][0]+1, num_span[1][0]+1)\n",
    "    min_j = min(num_span[0][1]-1, num_span[1][1]-1)\n",
    "    max_j = max(num_span[0][1]+1, num_span[1][1]+1)\n",
    "\n",
    "    if potential_gear[0] >= min_i and potential_gear[0] <= max_i and potential_gear[1] >= min_j and potential_gear[1] <= max_j:\n",
    "        return True\n",
    "\n",
    "    else:\n",
    "        return False"
   ]
  },
  {
   "cell_type": "code",
   "execution_count": 188,
   "id": "a70bff71-c7fc-403e-8715-b1f2862c3d51",
   "metadata": {},
   "outputs": [],
   "source": [
    "def find_gear_ratio(potential_gear, nums, num_spans):\n",
    "    \"given a potential gear [i, j], check against nums and num_spans to calculate gear ratio (if applicable)\"\n",
    "    nearby_nums = [num for num, span in zip(nums, num_spans) if is_adjacent(potential_gear, span)]\n",
    "    if len(nearby_nums) == 2:\n",
    "        return nearby_nums[0] * nearby_nums[1]\n",
    "    else:\n",
    "        return 0"
   ]
  },
  {
   "cell_type": "code",
   "execution_count": 203,
   "id": "8348faf0-ece1-417a-b95f-397425dafa5b",
   "metadata": {},
   "outputs": [],
   "source": [
    "def solve(input):\n",
    "    \n",
    "    nums, num_spans = find_numbers(input)\n",
    "\n",
    "    # pt 1\n",
    "    ans_1 = 0\n",
    "\n",
    "    for num, span in zip(nums, num_spans):\n",
    "        if check_neighbourhood(input, span, n = 1):\n",
    "            ans_1 += num\n",
    "\n",
    "    # pt 2\n",
    "    ans_2 = 0\n",
    "\n",
    "    potential_gears = find_potential_gears(input)\n",
    "    \n",
    "    for potential_gear in potential_gears:\n",
    "        ans_2 += find_gear_ratio(potential_gear, nums, num_spans)\n",
    "\n",
    "\n",
    "    return ans_1, ans_2"
   ]
  },
  {
   "cell_type": "code",
   "execution_count": 204,
   "id": "f5b2322d-54de-49b2-a014-e3426a16b0f0",
   "metadata": {},
   "outputs": [
    {
     "name": "stdout",
     "output_type": "stream",
     "text": [
      "543867\n",
      "79613331\n"
     ]
    }
   ],
   "source": [
    "ans_1, ans_2 = solve(input)\n",
    "print(ans_1)\n",
    "print(ans_2)"
   ]
  }
 ],
 "metadata": {
  "kernelspec": {
   "display_name": "Python 3 (ipykernel)",
   "language": "python",
   "name": "python3"
  },
  "language_info": {
   "codemirror_mode": {
    "name": "ipython",
    "version": 3
   },
   "file_extension": ".py",
   "mimetype": "text/x-python",
   "name": "python",
   "nbconvert_exporter": "python",
   "pygments_lexer": "ipython3",
   "version": "3.11.5"
  }
 },
 "nbformat": 4,
 "nbformat_minor": 5
}
