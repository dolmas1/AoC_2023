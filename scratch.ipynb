{
 "cells": [
  {
   "cell_type": "code",
   "execution_count": 11,
   "id": "6ad2eb9a-56ca-4362-9f69-3c1a5e4bc04f",
   "metadata": {},
   "outputs": [],
   "source": [
    "#!/usr/bin/env python\n",
    "\n",
    "import pandas as pd\n",
    "import numpy as np\n",
    "import re\n",
    "\n",
    "\n",
    "#filename = \"inputs/day03.txt\"\n",
    "filename = \"inputs/day03_sample.txt\"\n",
    "\n",
    "with open(filename) as f:\n",
    "    input = f.read().splitlines()\n"
   ]
  },
  {
   "cell_type": "code",
   "execution_count": 12,
   "id": "b4defb43-946f-4750-8654-b531ce00048a",
   "metadata": {},
   "outputs": [
    {
     "data": {
      "text/plain": [
       "['467..114..',\n",
       " '...*......',\n",
       " '..35..633.',\n",
       " '......#...',\n",
       " '617*......',\n",
       " '.....+.58.',\n",
       " '..592.....',\n",
       " '......755.',\n",
       " '...$.*....',\n",
       " '.664.598..']"
      ]
     },
     "execution_count": 12,
     "metadata": {},
     "output_type": "execute_result"
    }
   ],
   "source": [
    "input"
   ]
  },
  {
   "cell_type": "code",
   "execution_count": 35,
   "id": "dd1e33a7-de03-4f03-8ce9-28def3300ab1",
   "metadata": {},
   "outputs": [
    {
     "data": {
      "text/plain": [
       "'.'"
      ]
     },
     "execution_count": 35,
     "metadata": {},
     "output_type": "execute_result"
    }
   ],
   "source": [
    "input[3][5]"
   ]
  },
  {
   "cell_type": "code",
   "execution_count": null,
   "id": "d95db395-e034-4205-8b63-53d11ec11f02",
   "metadata": {},
   "outputs": [],
   "source": [
    "start_pos = [0, 0]\n",
    "end_pos = [0, 2]\n",
    "\n",
    "def get_neighbourhood(start_pos, end_pos, input):\n",
    "    start_neighbourhood = [max(0, start_pos[0] - 1), "
   ]
  },
  {
   "cell_type": "code",
   "execution_count": null,
   "id": "1c219546-da1c-4a38-aa0c-159b2d7c61d7",
   "metadata": {},
   "outputs": [],
   "source": []
  },
  {
   "cell_type": "code",
   "execution_count": 2,
   "id": "7ec38b84-2feb-4928-90bf-060c14760924",
   "metadata": {},
   "outputs": [
    {
     "name": "stdout",
     "output_type": "stream",
     "text": [
      "('1', 'd')\n"
     ]
    }
   ],
   "source": [
    "print(('1','d'))"
   ]
  },
  {
   "cell_type": "code",
   "execution_count": null,
   "id": "b1993b42-4849-48a3-b3cd-e54d73833a97",
   "metadata": {},
   "outputs": [],
   "source": []
  },
  {
   "cell_type": "code",
   "execution_count": null,
   "id": "7cebaac3-0cda-4090-928b-98f81d12b98f",
   "metadata": {},
   "outputs": [],
   "source": []
  },
  {
   "cell_type": "code",
   "execution_count": 3,
   "id": "0010db40-eab0-4f30-b099-b96a0a543372",
   "metadata": {},
   "outputs": [],
   "source": [
    "def parse_line(x):\n",
    "    \n",
    "    id = x.split(':')[0]\n",
    "    id = int(re.search('\\d+', x)[0])\n",
    "\n",
    "    \n",
    "    game_info = x.split(':')[1].split(';')\n",
    "    \n",
    "    red, blue, green = 0, 0, 0\n",
    "    \n",
    "    for y in game_info:\n",
    "\n",
    "        shown_reds = re.search('(\\d+) red', y)\n",
    "        shown_blues = re.search('(\\d+) blue', y)\n",
    "        shown_greens = re.search('(\\d+) green', y)\n",
    "        \n",
    "        if shown_reds:\n",
    "            red = max(red, int(shown_reds[1]))\n",
    "        if shown_blues:\n",
    "            blue = max(blue, int(shown_blues[1]))\n",
    "        if shown_greens:\n",
    "            green = max(green, int(shown_greens[1]))\n",
    "\n",
    "    return {'id': id, 'red': red, 'blue': blue, 'green': green}"
   ]
  },
  {
   "cell_type": "code",
   "execution_count": 4,
   "id": "e5f45500-90f3-44e6-866d-d0a2959f7d76",
   "metadata": {},
   "outputs": [],
   "source": [
    "def is_possible(parsed_line):\n",
    "    \n",
    "    if parsed_line['red'] <= 12 and parsed_line['green'] <= 13 and parsed_line['blue'] <= 14:\n",
    "        return True\n",
    "    else:\n",
    "        return False\n",
    "\n",
    "def power(parsed_line):\n",
    "    \n",
    "    return parsed_line['red'] * parsed_line['blue'] * parsed_line['green']"
   ]
  },
  {
   "cell_type": "code",
   "execution_count": 28,
   "id": "9a87b001-3c92-413e-a3f8-85d28fb67965",
   "metadata": {},
   "outputs": [],
   "source": [
    "def solve(input):\n",
    "    \n",
    "    ans_1, ans_2 = 0, 0\n",
    "\n",
    "    for l in input:\n",
    "        parsed = parse_line(l)\n",
    "        \n",
    "        if is_possible(parsed):\n",
    "            ans_1 += parsed['id']\n",
    "\n",
    "        ans_2 += power(parsed)\n",
    "            \n",
    "    return ans_1, ans_2"
   ]
  },
  {
   "cell_type": "code",
   "execution_count": 29,
   "id": "81b65165-ba81-440a-9ba7-95277e0b7b74",
   "metadata": {},
   "outputs": [
    {
     "name": "stdout",
     "output_type": "stream",
     "text": [
      "(2061, 72596)\n"
     ]
    }
   ],
   "source": [
    "print(solve(input))"
   ]
  },
  {
   "cell_type": "code",
   "execution_count": null,
   "id": "ab46629f-7cb0-4979-baee-2d1ad02fb8f7",
   "metadata": {},
   "outputs": [],
   "source": []
  },
  {
   "cell_type": "code",
   "execution_count": null,
   "id": "50484ebb-f333-4e31-b90d-2d68e4f470be",
   "metadata": {},
   "outputs": [],
   "source": []
  },
  {
   "cell_type": "code",
   "execution_count": null,
   "id": "51def398-9710-457a-a5f3-cb4d653dfce8",
   "metadata": {},
   "outputs": [],
   "source": []
  },
  {
   "cell_type": "code",
   "execution_count": null,
   "id": "1b89cab9-bb0a-4ce8-a7ad-8a633c5ebd32",
   "metadata": {},
   "outputs": [],
   "source": []
  }
 ],
 "metadata": {
  "kernelspec": {
   "display_name": "Python 3 (ipykernel)",
   "language": "python",
   "name": "python3"
  },
  "language_info": {
   "codemirror_mode": {
    "name": "ipython",
    "version": 3
   },
   "file_extension": ".py",
   "mimetype": "text/x-python",
   "name": "python",
   "nbconvert_exporter": "python",
   "pygments_lexer": "ipython3",
   "version": "3.11.5"
  }
 },
 "nbformat": 4,
 "nbformat_minor": 5
}
