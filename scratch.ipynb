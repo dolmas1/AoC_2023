{
 "cells": [
  {
   "cell_type": "code",
   "execution_count": 106,
   "id": "6ad2eb9a-56ca-4362-9f69-3c1a5e4bc04f",
   "metadata": {},
   "outputs": [],
   "source": [
    "#!/usr/bin/env python\n",
    "from collections import defaultdict \n",
    "\n",
    "sample = 0\n",
    "\n",
    "if sample == True:\n",
    "    filename = \"inputs/day15_sample.txt\"\n",
    "else:\n",
    "    filename = \"inputs/day15.txt\"\n",
    "\n",
    "with open(filename) as f:\n",
    "    input = f.read()#.splitlines()"
   ]
  },
  {
   "cell_type": "code",
   "execution_count": null,
   "id": "fcd08bec-df71-4eda-9fe1-7951eedcc363",
   "metadata": {},
   "outputs": [],
   "source": [
    "def parse_pt2(s):\n",
    "    if s[-2] == '=':\n",
    "        return s[:-2], int(s[-1])\n",
    "    else:\n",
    "        return s[:-1], 0"
   ]
  },
  {
   "cell_type": "code",
   "execution_count": 40,
   "id": "f7d1f313-e569-4a50-bcc0-16c5da0f2f21",
   "metadata": {},
   "outputs": [],
   "source": [
    "def parse(input):\n",
    "    parsed_pt1 = input.split(',')\n",
    "    parsed_pt2 = [parse_pt2(s) for s in parsed]\n",
    "    return parsed_pt1, parsed_pt2 "
   ]
  },
  {
   "cell_type": "code",
   "execution_count": 9,
   "id": "f4b58cf0-0b04-42e2-b1ad-4ac91dfcc02b",
   "metadata": {},
   "outputs": [],
   "source": [
    "def HASH(str_input):\n",
    "    current_val = 0\n",
    "    for c in str_input:\n",
    "        current_val += ord(c)\n",
    "        current_val *= 17\n",
    "        current_val = current_val % 256\n",
    "    return current_val"
   ]
  },
  {
   "cell_type": "code",
   "execution_count": 92,
   "id": "0d7a37e4-e187-4d77-9030-bae7b5c518ea",
   "metadata": {},
   "outputs": [],
   "source": [
    "def def_value(): \n",
    "    return ([], [])"
   ]
  },
  {
   "cell_type": "code",
   "execution_count": 84,
   "id": "545a6a5b-96c8-4ffe-9014-2e34de7d8568",
   "metadata": {},
   "outputs": [],
   "source": [
    "def add_lens(label, f, boxes):\n",
    "    labels, focals = boxes[HASH(label)]\n",
    "\n",
    "    try:\n",
    "        idx = labels.index(label)\n",
    "        focals[idx] = f\n",
    "    except:\n",
    "        labels.append(label)\n",
    "        focals.append(f)\n",
    "\n",
    "    boxes[HASH(label)] = labels, focals\n",
    "    #return labels, focals"
   ]
  },
  {
   "cell_type": "code",
   "execution_count": 85,
   "id": "d329a3d4-ab69-4868-9da6-55592bfc9510",
   "metadata": {},
   "outputs": [],
   "source": [
    "def remove_lens(label, boxes):\n",
    "    labels, focals = boxes[HASH(label)]\n",
    "\n",
    "    try:\n",
    "        idx = labels.index(label)\n",
    "        del labels[idx]\n",
    "        del focals[idx]\n",
    "    except:\n",
    "        pass\n",
    "\n",
    "    boxes[HASH(label)] = labels, focals"
   ]
  },
  {
   "cell_type": "code",
   "execution_count": 104,
   "id": "ae5a0b38-12a1-4033-b1a5-7b59e8b355f5",
   "metadata": {},
   "outputs": [],
   "source": [
    "def solve(input):\n",
    "    parsed_pt1, parsed_pt2  = parse(input)\n",
    "    ans_1 = 0\n",
    "    for str_input in parsed_pt1:\n",
    "        ans_1 += HASH(str_input)\n",
    "        \n",
    "    ans_2 = 0\n",
    "    boxes = defaultdict(def_value)\n",
    "\n",
    "    for label, f in parsed_pt2:\n",
    "        if f > 0:\n",
    "            add_lens(label, f, boxes)\n",
    "        else:\n",
    "            remove_lens(label, boxes)\n",
    "\n",
    "    for key, val in boxes.items():\n",
    "        for i, v in enumerate(val[1]):\n",
    "            ans_2 += (key + 1) * (i+1) * (v)\n",
    "    \n",
    "    return ans_1, ans_2"
   ]
  },
  {
   "cell_type": "code",
   "execution_count": 108,
   "id": "fa47fabf-8c22-44be-ae25-4e31e9dbacf4",
   "metadata": {},
   "outputs": [
    {
     "name": "stdout",
     "output_type": "stream",
     "text": [
      "511257\n",
      "239484\n"
     ]
    }
   ],
   "source": [
    "ans_1, ans_2 = solve(input)\n",
    "print(ans_1)\n",
    "print(ans_2)"
   ]
  },
  {
   "cell_type": "code",
   "execution_count": null,
   "id": "219bd2ff-cecf-416c-9a93-e8fa84533aa1",
   "metadata": {},
   "outputs": [],
   "source": []
  },
  {
   "cell_type": "code",
   "execution_count": null,
   "id": "eeab7b11-1940-4f0d-ba4a-803011b6d59f",
   "metadata": {},
   "outputs": [],
   "source": []
  },
  {
   "cell_type": "code",
   "execution_count": null,
   "id": "5fb37371-7837-4e7a-813e-49a84ff83a2a",
   "metadata": {},
   "outputs": [],
   "source": []
  }
 ],
 "metadata": {
  "kernelspec": {
   "display_name": "Python 3 (ipykernel)",
   "language": "python",
   "name": "python3"
  },
  "language_info": {
   "codemirror_mode": {
    "name": "ipython",
    "version": 3
   },
   "file_extension": ".py",
   "mimetype": "text/x-python",
   "name": "python",
   "nbconvert_exporter": "python",
   "pygments_lexer": "ipython3",
   "version": "3.11.5"
  }
 },
 "nbformat": 4,
 "nbformat_minor": 5
}
