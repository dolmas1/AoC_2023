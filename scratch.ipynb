{
 "cells": [
  {
   "cell_type": "code",
   "execution_count": 130,
   "id": "6ad2eb9a-56ca-4362-9f69-3c1a5e4bc04f",
   "metadata": {},
   "outputs": [],
   "source": [
    "#!/usr/bin/env python\n",
    "import math\n",
    "\n",
    "sample = 0\n",
    "\n",
    "if sample == True:\n",
    "    filename = \"inputs/day08_sample.txt\"\n",
    "else:\n",
    "    filename = \"inputs/day08.txt\"\n",
    "\n",
    "with open(filename) as f:\n",
    "    input = f.read().splitlines()"
   ]
  },
  {
   "cell_type": "code",
   "execution_count": 96,
   "id": "6b04bcd0-12e8-4b01-be3b-71512c9af8d7",
   "metadata": {},
   "outputs": [],
   "source": [
    "def parse(input):\n",
    "    instructions = [x for x in input[0]]\n",
    "    nodes = {}\n",
    "    for l in input[2:]:\n",
    "        key, vals = l.split(' = ')\n",
    "        left, right = vals[1:-1].split(', ')\n",
    "        nodes[key] = {'L': left, 'R': right}\n",
    "    return instructions, nodes"
   ]
  },
  {
   "cell_type": "code",
   "execution_count": 131,
   "id": "3abff516-e8c9-4dea-a3c1-9388a68e67ac",
   "metadata": {},
   "outputs": [],
   "source": [
    "def solve(input):\n",
    "\n",
    "    instructions, nodes = parse(input)\n",
    "\n",
    "    # pt1\n",
    "    current_loc = 'AAA'\n",
    "    i = 0\n",
    "    while not current_loc == 'ZZZ':\n",
    "        current_loc = nodes[current_loc][instructions[i % len(instructions)]]\n",
    "        i += 1\n",
    "\n",
    "    ans_1 = i\n",
    "\n",
    "    # pt2\n",
    "    ans = []\n",
    "    starting_locs = [n for n in nodes.keys() if n[-1] == 'A']\n",
    "    for current_loc in starting_locs:\n",
    "        i = 0\n",
    "        while not current_loc[-1] == 'Z':\n",
    "            current_loc = nodes[current_loc][instructions[i % len(instructions)]]\n",
    "            i += 1\n",
    "        ans.append(i)\n",
    "    \n",
    "    ans_2 = math.lcm(*ans)\n",
    "    \n",
    "    return ans_1, ans_2"
   ]
  },
  {
   "cell_type": "code",
   "execution_count": 133,
   "id": "18bfa61c-e55f-473f-a91b-b91a1693a470",
   "metadata": {},
   "outputs": [
    {
     "name": "stdout",
     "output_type": "stream",
     "text": [
      "11309\n",
      "13740108158591\n"
     ]
    }
   ],
   "source": [
    "ans_1, ans_2 = solve(input)\n",
    "print(ans_1)\n",
    "print(ans_2)"
   ]
  },
  {
   "cell_type": "code",
   "execution_count": null,
   "id": "5c820278-f9e9-42e2-ba6c-ad8f30ae9762",
   "metadata": {},
   "outputs": [],
   "source": []
  },
  {
   "cell_type": "code",
   "execution_count": null,
   "id": "d6e4c913-627d-4048-9f43-74e2d5ff8b0a",
   "metadata": {},
   "outputs": [],
   "source": []
  },
  {
   "cell_type": "code",
   "execution_count": null,
   "id": "219bd2ff-cecf-416c-9a93-e8fa84533aa1",
   "metadata": {},
   "outputs": [],
   "source": []
  },
  {
   "cell_type": "code",
   "execution_count": null,
   "id": "eeab7b11-1940-4f0d-ba4a-803011b6d59f",
   "metadata": {},
   "outputs": [],
   "source": []
  },
  {
   "cell_type": "code",
   "execution_count": null,
   "id": "5fb37371-7837-4e7a-813e-49a84ff83a2a",
   "metadata": {},
   "outputs": [],
   "source": []
  }
 ],
 "metadata": {
  "kernelspec": {
   "display_name": "Python 3 (ipykernel)",
   "language": "python",
   "name": "python3"
  },
  "language_info": {
   "codemirror_mode": {
    "name": "ipython",
    "version": 3
   },
   "file_extension": ".py",
   "mimetype": "text/x-python",
   "name": "python",
   "nbconvert_exporter": "python",
   "pygments_lexer": "ipython3",
   "version": "3.11.5"
  }
 },
 "nbformat": 4,
 "nbformat_minor": 5
}
