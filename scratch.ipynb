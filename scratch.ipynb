{
 "cells": [
  {
   "cell_type": "code",
   "execution_count": 132,
   "id": "6ad2eb9a-56ca-4362-9f69-3c1a5e4bc04f",
   "metadata": {},
   "outputs": [],
   "source": [
    "#!/usr/bin/env python\n",
    "import math\n",
    "\n",
    "sample = 1\n",
    "\n",
    "if sample == True:\n",
    "    filename = \"inputs/day10_sample.txt\"\n",
    "else:\n",
    "    filename = \"inputs/day10.txt\"\n",
    "\n",
    "with open(filename) as f:\n",
    "    input = f.read().splitlines()"
   ]
  },
  {
   "cell_type": "code",
   "execution_count": null,
   "id": "c7b6c52e-b60b-47d2-a61a-46441e4f03b4",
   "metadata": {},
   "outputs": [],
   "source": [
    "# i CONTROL WHICH ROW\n",
    "# j CONTROLS WHICH COLUMN"
   ]
  },
  {
   "cell_type": "code",
   "execution_count": 50,
   "id": "f7d1f313-e569-4a50-bcc0-16c5da0f2f21",
   "metadata": {},
   "outputs": [],
   "source": [
    "def parse(input):\n",
    "    grid = {}\n",
    "    max_i = len(input)-1\n",
    "    max_j = len(input[0])-1\n",
    "    for i, l in enumerate(input):\n",
    "        for j, c in enumerate(l):\n",
    "            grid[(i,j)] = c\n",
    "\n",
    "    # find start position:\n",
    "    key_list = list(grid.keys())\n",
    "    val_list = list(grid.values())\n",
    "    start_pos = key_list[val_list.index('S')]\n",
    "\n",
    "    return grid, start_pos, max_i, max_j"
   ]
  },
  {
   "cell_type": "code",
   "execution_count": 49,
   "id": "25a9d96e-fb6b-4900-b18d-893bbd10a39b",
   "metadata": {},
   "outputs": [],
   "source": [
    "def get_neighbour_keys(grid, i, j, max_i, max_j):\n",
    "    if i == 0:\n",
    "        if j == 0:\n",
    "            return [(i+1, j), (i, j+1)]\n",
    "        elif j == max_j:\n",
    "            return [(i+1, j), (i, j-1)]\n",
    "        else:\n",
    "            return [(i+1, j), (i, j+1), (i, j-1)]\n",
    "    elif i == max_i:\n",
    "        if j == 0:\n",
    "            return [(i-1, j), (i, j+1)]\n",
    "        elif j == max_j:\n",
    "            return [(i-1, j), (i, j-1)]\n",
    "        else:\n",
    "            return [(i-1, j), (i, j+1), (i, j-1)]\n",
    "    elif j == 0:\n",
    "        return [(i+1, j), (i-1, j), (i, j+1)]\n",
    "    elif j == max_j:\n",
    "        return [(i+1, j), (i-1, j), (i, j-1)]\n",
    "    else:\n",
    "        return [(i+1, j), (i-1, j), (i, j+1), (i, j-1)]"
   ]
  },
  {
   "cell_type": "code",
   "execution_count": 33,
   "id": "1973676c-b492-4473-b080-7b7e402a9125",
   "metadata": {},
   "outputs": [],
   "source": [
    "def south(i, j):\n",
    "    return (i+1, j)\n",
    "def north(i, j):\n",
    "    return (i-1, j)\n",
    "def east(i, j):\n",
    "    return (i, j+1)\n",
    "def west(i, j):\n",
    "    return (i, j-1)"
   ]
  },
  {
   "cell_type": "code",
   "execution_count": 104,
   "id": "12a465f4-11cd-4669-8a34-a7283867fc0a",
   "metadata": {},
   "outputs": [],
   "source": [
    "def identify_start_pipe(grid, start_pos, max_i, max_j):\n",
    "    connects = []\n",
    "    n = north(*start_pos)\n",
    "    e = east(*start_pos)\n",
    "    s = south(*start_pos)\n",
    "    w = west(*start_pos)\n",
    "    neighbours = get_neighbour_keys(grid, *start_pos, max_i, max_j)\n",
    "    \n",
    "    if n in neighbours:\n",
    "        if n in ['|', 'F', '7']:\n",
    "            connects.append('N')\n",
    "    if e in neighbours:\n",
    "        if grid[e] in ['-', '7', 'J']:\n",
    "            connects.append('E')\n",
    "    if s in neighbours:\n",
    "        if grid[s] in ['|', 'J', 'L']:\n",
    "            connects.append('S')\n",
    "    if w in neighbours:\n",
    "        if grid[w] in ['-', 'F', 'L']:\n",
    "            connects.append('W')\n",
    "\n",
    "    if connects == ['N', 'E']:\n",
    "        return 'L'\n",
    "    elif connects == ['N', 'S']:\n",
    "        return '|'\n",
    "    elif connects == ['N', 'W']:\n",
    "        return 'J'\n",
    "    elif connects == ['E', 'S']:\n",
    "        return 'F'\n",
    "    elif connects == ['E', 'W']:\n",
    "        return '-'\n",
    "    elif connects == ['S', 'W']:\n",
    "        return '7'"
   ]
  },
  {
   "cell_type": "code",
   "execution_count": 62,
   "id": "19098817-a4a9-4aa4-adb4-73eb3aed16f1",
   "metadata": {},
   "outputs": [],
   "source": [
    "def parse_char(c, i, j):\n",
    "    if c == '|': # north to south\n",
    "        if i == 0:\n",
    "            return ((i+1, j))\n",
    "        elif i == max_i:\n",
    "            return ((i-1, j))\n",
    "        else:\n",
    "            return ((i-1, j), (i+1, j))\n",
    "\n",
    "    elif c == '-': # east to west\n",
    "        if j == 0:\n",
    "            return ((i, j+1))\n",
    "        elif j == max_j:\n",
    "            return ((i, j-1))\n",
    "        else:\n",
    "            return ((i, j-1), (i, j+1))\n",
    "\n",
    "    elif c == 'L': # north to east\n",
    "        if i == 0:\n",
    "            if j == max_j:\n",
    "                return ()\n",
    "            else:\n",
    "                return ((i, j+1))\n",
    "        elif j == max_j:\n",
    "            return ((i-1, j))\n",
    "        else:\n",
    "            return ((i-1, j), (i, j+1))\n",
    "\n",
    "    elif c == 'J': # north to west\n",
    "        if i == 0:\n",
    "            if j == 0:\n",
    "                return ()\n",
    "            else:\n",
    "                return ((i, j-1))\n",
    "        elif j == 0:\n",
    "            return ((i-1, j))\n",
    "        else:\n",
    "            return ((i-1, j), (i, j-1))\n",
    "\n",
    "    elif c == '7': # south to west\n",
    "        if i == max_i:\n",
    "            if j == 0:\n",
    "                return ()\n",
    "            else:\n",
    "                return ((i, j-1))\n",
    "        elif j == 0:\n",
    "            return ((i+1, j))\n",
    "        else:\n",
    "            return ((i+1, j), (i, j-1))\n",
    "\n",
    "    elif c == 'F': # south to east\n",
    "        if i == max_i:\n",
    "            if j == max_j:\n",
    "                return ()\n",
    "            else:\n",
    "                return ((i, j+1))\n",
    "        elif j == max_j:\n",
    "            return ((i+1, j))\n",
    "        else:\n",
    "            return ((i+1, j), (i, j+1))\n",
    "\n",
    "    else: # no pipe '.', or start 'S'\n",
    "        return ()"
   ]
  },
  {
   "cell_type": "code",
   "execution_count": 122,
   "id": "4aba51c6-d329-4ece-8413-9c42a4e26e54",
   "metadata": {},
   "outputs": [],
   "source": [
    "def traverse_next(grid, current_node, prev_node):\n",
    "    potential_nodes = parse_char(grid[current_node], *current_node)\n",
    "\n",
    "    potential_unvisited = [node for node in potential_nodes if (node != prev_node)]\n",
    "\n",
    "    return potential_unvisited[0]"
   ]
  },
  {
   "cell_type": "code",
   "execution_count": 125,
   "id": "8c1b377a-bec6-4850-b5be-d1b48f674f74",
   "metadata": {},
   "outputs": [],
   "source": [
    "def solve(input):\n",
    "    grid, start_pos, max_i, max_j = parse(input)\n",
    "\n",
    "    # replace the starting character S with the correct pipe type (by looking at neighbours)\n",
    "    grid[*start_pos] = identify_start_pipe(grid, start_pos, max_i, max_j)\n",
    "\n",
    "    # traverse the graph\n",
    "    current_node = start_pos\n",
    "    visited_nodes = [current_node]\n",
    "    next_node = traverse_next(grid, current_node, current_node)\n",
    "    while next_node != start_pos:\n",
    "        #print(next_node)\n",
    "        prev_node = current_node\n",
    "        current_node = next_node\n",
    "        visited_nodes.append(current_node)\n",
    "        next_node = traverse_next(grid, current_node, prev_node)\n",
    "\n",
    "    ans_1 = int(len(visited_nodes)/2)\n",
    "\n",
    "    ans_2 = 0\n",
    "\n",
    "    return ans_1, ans_2, visited_nodes"
   ]
  },
  {
   "cell_type": "code",
   "execution_count": 129,
   "id": "beecbcf4-2981-4e57-9d8e-2669f7483f11",
   "metadata": {},
   "outputs": [
    {
     "ename": "ValueError",
     "evalue": "too many values to unpack (expected 2)",
     "output_type": "error",
     "traceback": [
      "\u001b[0;31m---------------------------------------------------------------------------\u001b[0m",
      "\u001b[0;31mValueError\u001b[0m                                Traceback (most recent call last)",
      "Cell \u001b[0;32mIn[129], line 1\u001b[0m\n\u001b[0;32m----> 1\u001b[0m ans_1, ans_2 \u001b[38;5;241m=\u001b[39m solve(\u001b[38;5;28minput\u001b[39m)\n\u001b[1;32m      2\u001b[0m \u001b[38;5;28mprint\u001b[39m(ans_1)\n\u001b[1;32m      3\u001b[0m \u001b[38;5;28mprint\u001b[39m(ans_2)\n",
      "\u001b[0;31mValueError\u001b[0m: too many values to unpack (expected 2)"
     ]
    }
   ],
   "source": [
    "ans_1, ans_2 = solve(input)\n",
    "print(ans_1)\n",
    "print(ans_2)"
   ]
  },
  {
   "cell_type": "code",
   "execution_count": 133,
   "id": "5c820278-f9e9-42e2-ba6c-ad8f30ae9762",
   "metadata": {},
   "outputs": [],
   "source": [
    "ans_1, ans_2, visited_nodes= solve(input)"
   ]
  },
  {
   "cell_type": "code",
   "execution_count": 135,
   "id": "5f78991a-e775-426f-b3ec-28e02b3f4af8",
   "metadata": {},
   "outputs": [
    {
     "data": {
      "text/plain": [
       "['..........',\n",
       " '.S------7.',\n",
       " '.|F----7|.',\n",
       " '.||OOOO||.',\n",
       " '.||OOOO||.',\n",
       " '.|L-7F-J|.',\n",
       " '.|II||II|.',\n",
       " '.L--JL--J.',\n",
       " '..........']"
      ]
     },
     "execution_count": 135,
     "metadata": {},
     "output_type": "execute_result"
    }
   ],
   "source": [
    "input"
   ]
  },
  {
   "cell_type": "code",
   "execution_count": 134,
   "id": "d6e4c913-627d-4048-9f43-74e2d5ff8b0a",
   "metadata": {},
   "outputs": [
    {
     "data": {
      "text/plain": [
       "[(1, 1),\n",
       " (2, 1),\n",
       " (3, 1),\n",
       " (4, 1),\n",
       " (5, 1),\n",
       " (6, 1),\n",
       " (7, 1),\n",
       " (7, 2),\n",
       " (7, 3),\n",
       " (7, 4),\n",
       " (6, 4),\n",
       " (5, 4),\n",
       " (5, 3),\n",
       " (5, 2),\n",
       " (4, 2),\n",
       " (3, 2),\n",
       " (2, 2),\n",
       " (2, 3),\n",
       " (2, 4),\n",
       " (2, 5),\n",
       " (2, 6),\n",
       " (2, 7),\n",
       " (3, 7),\n",
       " (4, 7),\n",
       " (5, 7),\n",
       " (5, 6),\n",
       " (5, 5),\n",
       " (6, 5),\n",
       " (7, 5),\n",
       " (7, 6),\n",
       " (7, 7),\n",
       " (7, 8),\n",
       " (6, 8),\n",
       " (5, 8),\n",
       " (4, 8),\n",
       " (3, 8),\n",
       " (2, 8),\n",
       " (1, 8),\n",
       " (1, 7),\n",
       " (1, 6),\n",
       " (1, 5),\n",
       " (1, 4),\n",
       " (1, 3),\n",
       " (1, 2)]"
      ]
     },
     "execution_count": 134,
     "metadata": {},
     "output_type": "execute_result"
    }
   ],
   "source": [
    "visited_nodes"
   ]
  },
  {
   "cell_type": "code",
   "execution_count": null,
   "id": "219bd2ff-cecf-416c-9a93-e8fa84533aa1",
   "metadata": {},
   "outputs": [],
   "source": []
  },
  {
   "cell_type": "code",
   "execution_count": null,
   "id": "eeab7b11-1940-4f0d-ba4a-803011b6d59f",
   "metadata": {},
   "outputs": [],
   "source": []
  },
  {
   "cell_type": "code",
   "execution_count": null,
   "id": "5fb37371-7837-4e7a-813e-49a84ff83a2a",
   "metadata": {},
   "outputs": [],
   "source": []
  }
 ],
 "metadata": {
  "kernelspec": {
   "display_name": "Python 3 (ipykernel)",
   "language": "python",
   "name": "python3"
  },
  "language_info": {
   "codemirror_mode": {
    "name": "ipython",
    "version": 3
   },
   "file_extension": ".py",
   "mimetype": "text/x-python",
   "name": "python",
   "nbconvert_exporter": "python",
   "pygments_lexer": "ipython3",
   "version": "3.11.5"
  }
 },
 "nbformat": 4,
 "nbformat_minor": 5
}
