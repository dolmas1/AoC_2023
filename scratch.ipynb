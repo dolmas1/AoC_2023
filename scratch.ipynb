{
 "cells": [
  {
   "cell_type": "code",
   "execution_count": 340,
   "id": "6ad2eb9a-56ca-4362-9f69-3c1a5e4bc04f",
   "metadata": {},
   "outputs": [],
   "source": [
    "#!/usr/bin/env python\n",
    "import re\n",
    "\n",
    "sample = 0\n",
    "\n",
    "if sample == True:\n",
    "    filename = \"inputs/day04_sample.txt\"\n",
    "else:\n",
    "    filename = \"inputs/day04.txt\"\n",
    "\n",
    "with open(filename) as f:\n",
    "    input = f.read().splitlines()"
   ]
  },
  {
   "cell_type": "code",
   "execution_count": 280,
   "id": "d9a81f90-d744-461c-b05b-8fdc402eadfd",
   "metadata": {},
   "outputs": [
    {
     "data": {
      "text/plain": [
       "['Card 1: 41 48 83 86 17 | 83 86  6 31 17  9 48 53',\n",
       " 'Card 2: 13 32 20 16 61 | 61 30 68 82 17 32 24 19',\n",
       " 'Card 3:  1 21 53 59 44 | 69 82 63 72 16 21 14  1',\n",
       " 'Card 4: 41 92 73 84 69 | 59 84 76 51 58  5 54 83',\n",
       " 'Card 5: 87 83 26 28 32 | 88 30 70 12 93 22 82 36',\n",
       " 'Card 6: 31 18 13 56 72 | 74 77 10 23 35 67 36 11']"
      ]
     },
     "execution_count": 280,
     "metadata": {},
     "output_type": "execute_result"
    }
   ],
   "source": [
    "input"
   ]
  },
  {
   "cell_type": "code",
   "execution_count": 338,
   "id": "200af559-4053-43ec-9eef-c5d0a97fa0fe",
   "metadata": {},
   "outputs": [],
   "source": [
    "def parse_input(input):\n",
    "    cards = {}\n",
    "    for i, l in enumerate(input):\n",
    "        winning, ours = [set(x.strip().split()) for x in l.split(':')[1].split('|')]\n",
    "        intersect = winning.intersection(ours)\n",
    "        cards[i] = {'num_held': 1, 'winning_numbers': len(intersect)}\n",
    "    return(cards)\n",
    "\n",
    "def solve(input):\n",
    "    cards = parse_input(input)\n",
    "    ans_1 = sum([2**(x['winning_numbers']-1) for x in cards.values() if x['winning_numbers'] > 0])\n",
    "\n",
    "    for key, val in cards.items():\n",
    "        for i in range(val['winning_numbers']):\n",
    "            cards[key + i + 1]['num_held'] += (val['num_held'])\n",
    "\n",
    "    ans_2 = sum([x['num_held'] for x in cards.values()])\n",
    "    \n",
    "    return ans_1, ans_2"
   ]
  },
  {
   "cell_type": "code",
   "execution_count": 341,
   "id": "c768da50-165c-4c39-8c2d-24cc4c7a2f98",
   "metadata": {},
   "outputs": [
    {
     "name": "stdout",
     "output_type": "stream",
     "text": [
      "28538\n",
      "9425061\n"
     ]
    }
   ],
   "source": [
    "ans_1, ans_2 = solve(input)\n",
    "print(ans_1)\n",
    "print(ans_2)"
   ]
  }
 ],
 "metadata": {
  "kernelspec": {
   "display_name": "Python 3 (ipykernel)",
   "language": "python",
   "name": "python3"
  },
  "language_info": {
   "codemirror_mode": {
    "name": "ipython",
    "version": 3
   },
   "file_extension": ".py",
   "mimetype": "text/x-python",
   "name": "python",
   "nbconvert_exporter": "python",
   "pygments_lexer": "ipython3",
   "version": "3.11.5"
  }
 },
 "nbformat": 4,
 "nbformat_minor": 5
}
