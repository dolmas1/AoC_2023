{
 "cells": [
  {
   "cell_type": "code",
   "execution_count": 60,
   "id": "6ad2eb9a-56ca-4362-9f69-3c1a5e4bc04f",
   "metadata": {},
   "outputs": [],
   "source": [
    "#!/usr/bin/env python\n",
    "import re\n",
    "\n",
    "sample = 0\n",
    "\n",
    "if sample == True:\n",
    "    filename = \"inputs/day05_sample.txt\"\n",
    "else:\n",
    "    filename = \"inputs/day05.txt\"\n",
    "\n",
    "with open(filename) as f:\n",
    "    input = f.read().splitlines()"
   ]
  },
  {
   "cell_type": "code",
   "execution_count": 12,
   "id": "d9a81f90-d744-461c-b05b-8fdc402eadfd",
   "metadata": {},
   "outputs": [
    {
     "data": {
      "text/plain": [
       "['seeds: 79 14 55 13',\n",
       " '',\n",
       " 'seed-to-soil map:',\n",
       " '50 98 2',\n",
       " '52 50 48',\n",
       " '',\n",
       " 'soil-to-fertilizer map:',\n",
       " '0 15 37',\n",
       " '37 52 2',\n",
       " '39 0 15',\n",
       " '',\n",
       " 'fertilizer-to-water map:',\n",
       " '49 53 8',\n",
       " '0 11 42',\n",
       " '42 0 7',\n",
       " '57 7 4',\n",
       " '',\n",
       " 'water-to-light map:',\n",
       " '88 18 7',\n",
       " '18 25 70',\n",
       " '',\n",
       " 'light-to-temperature map:',\n",
       " '45 77 23',\n",
       " '81 45 19',\n",
       " '68 64 13',\n",
       " '',\n",
       " 'temperature-to-humidity map:',\n",
       " '0 69 1',\n",
       " '1 0 69',\n",
       " '',\n",
       " 'humidity-to-location map:',\n",
       " '60 56 37',\n",
       " '56 93 4']"
      ]
     },
     "execution_count": 12,
     "metadata": {},
     "output_type": "execute_result"
    }
   ],
   "source": [
    "input"
   ]
  },
  {
   "cell_type": "code",
   "execution_count": 51,
   "id": "1e86827b-b75c-4fdc-b866-94062c799bde",
   "metadata": {},
   "outputs": [],
   "source": [
    "def map_seed(seed, mapping):\n",
    "    mapped_seed = seed\n",
    "    for src, [dest, range] in mapping.items():\n",
    "        diff = seed - src\n",
    "        if diff >= 0 and diff < range:\n",
    "            mapped_seed = dest + diff\n",
    "            \n",
    "    return mapped_seed"
   ]
  },
  {
   "cell_type": "code",
   "execution_count": 63,
   "id": "ada20a10-4a9e-46aa-a25a-87047c643de7",
   "metadata": {},
   "outputs": [],
   "source": [
    "def solve(input):\n",
    "    seeds = [int(a) for a in input[0][7:].split()]\n",
    "    mapping = {}\n",
    "    \n",
    "    for i, l in enumerate(input[3:]):\n",
    "        if l == '':\n",
    "            seeds = [map_seed(seed, mapping) for seed in seeds]\n",
    "            mapping = {}\n",
    "    \n",
    "        elif re.match('\\d', l[0]):\n",
    "            dest, src, range = [int(a) for a in l.split()]\n",
    "            mapping[src] = [dest, range]\n",
    "    \n",
    "    \n",
    "    seeds = [map_seed(seed, mapping) for seed in seeds]\n",
    "\n",
    "    ans_1 = min(seeds)\n",
    "\n",
    "    ans_2 = 0\n",
    "\n",
    "    return(ans_1, ans_2)"
   ]
  },
  {
   "cell_type": "code",
   "execution_count": 65,
   "id": "71cf65e9-aebd-4788-9625-288407335615",
   "metadata": {},
   "outputs": [
    {
     "name": "stdout",
     "output_type": "stream",
     "text": [
      "650599855\n",
      "0\n"
     ]
    }
   ],
   "source": [
    "ans_1, ans_2 = solve(input)\n",
    "print(ans_1)\n",
    "print(ans_2)\n"
   ]
  },
  {
   "cell_type": "code",
   "execution_count": null,
   "id": "35e550e5-f4e2-4373-8af7-cf3811266db3",
   "metadata": {},
   "outputs": [],
   "source": [
    "def map_seed(seed, mapping):\n",
    "    mapped_seed = seed\n",
    "    for src, [dest, range] in mapping.items():\n",
    "        diff = seed - src\n",
    "        if diff >= 0 and diff < range:\n",
    "            mapped_seed = dest + diff\n",
    "            \n",
    "    return mapped_seed"
   ]
  },
  {
   "cell_type": "code",
   "execution_count": null,
   "id": "19d615ea-ce52-4d6a-9ca2-0ee96da29784",
   "metadata": {},
   "outputs": [],
   "source": []
  },
  {
   "cell_type": "code",
   "execution_count": null,
   "id": "8887c444-7c1d-491b-b67d-46b26d56db33",
   "metadata": {},
   "outputs": [],
   "source": []
  },
  {
   "cell_type": "code",
   "execution_count": 3,
   "id": "200af559-4053-43ec-9eef-c5d0a97fa0fe",
   "metadata": {},
   "outputs": [],
   "source": [
    "def parse_input(input):\n",
    "    cards = {}\n",
    "    for i, l in enumerate(input):\n",
    "        winning, ours = [set(x.strip().split()) for x in l.split(':')[1].split('|')]\n",
    "        intersect = winning.intersection(ours)\n",
    "        cards[i] = {'num_held': 1, 'winning_numbers': len(intersect)}\n",
    "    return(cards)\n",
    "\n",
    "def solve(input):\n",
    "    cards = parse_input(input)\n",
    "    ans_1 = sum([2**(x['winning_numbers']-1) for x in cards.values() if x['winning_numbers'] > 0])\n",
    "\n",
    "    for key, val in cards.items():\n",
    "        for i in range(val['winning_numbers']):\n",
    "            cards[key + i + 1]['num_held'] += (val['num_held'])\n",
    "\n",
    "    ans_2 = sum([x['num_held'] for x in cards.values()])\n",
    "    \n",
    "    return ans_1, ans_2"
   ]
  },
  {
   "cell_type": "code",
   "execution_count": 4,
   "id": "c768da50-165c-4c39-8c2d-24cc4c7a2f98",
   "metadata": {},
   "outputs": [
    {
     "name": "stdout",
     "output_type": "stream",
     "text": [
      "28538\n",
      "9425061\n"
     ]
    }
   ],
   "source": [
    "ans_1, ans_2 = solve(input)\n",
    "print(ans_1)\n",
    "print(ans_2)"
   ]
  }
 ],
 "metadata": {
  "kernelspec": {
   "display_name": "Python 3 (ipykernel)",
   "language": "python",
   "name": "python3"
  },
  "language_info": {
   "codemirror_mode": {
    "name": "ipython",
    "version": 3
   },
   "file_extension": ".py",
   "mimetype": "text/x-python",
   "name": "python",
   "nbconvert_exporter": "python",
   "pygments_lexer": "ipython3",
   "version": "3.11.5"
  }
 },
 "nbformat": 4,
 "nbformat_minor": 5
}
