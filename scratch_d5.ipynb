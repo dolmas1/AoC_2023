{
 "cells": [
  {
   "cell_type": "code",
   "execution_count": 79,
   "id": "6ad2eb9a-56ca-4362-9f69-3c1a5e4bc04f",
   "metadata": {},
   "outputs": [],
   "source": [
    "#!/usr/bin/env python\n",
    "import re\n",
    "\n",
    "sample = 0\n",
    "\n",
    "if sample == True:\n",
    "    filename = \"inputs/day05_sample.txt\"\n",
    "else:\n",
    "    filename = \"inputs/day05.txt\"\n",
    "\n",
    "with open(filename) as f:\n",
    "    input = f.read().splitlines()"
   ]
  },
  {
   "cell_type": "code",
   "execution_count": 63,
   "id": "1e86827b-b75c-4fdc-b866-94062c799bde",
   "metadata": {},
   "outputs": [],
   "source": [
    "def map_seed_pt1(seed, mapping):\n",
    "    mapped_seed = seed\n",
    "    for src, [dest, r] in mapping.items():\n",
    "        diff = seed - src\n",
    "        if diff >= 0 and diff < r:\n",
    "            mapped_seed = dest + diff\n",
    "            \n",
    "    return mapped_seed"
   ]
  },
  {
   "cell_type": "code",
   "execution_count": 64,
   "id": "b17a8e98-d258-407f-8fd7-a53936a111fb",
   "metadata": {},
   "outputs": [],
   "source": [
    "def map_seed_pt2(input_seeds, mapping):\n",
    "    output_seeds = []\n",
    "\n",
    "    # run until list of source seeds ranges is depleted\n",
    "    while len(input_seeds) > 0:\n",
    "        \n",
    "        # check every seed range against every mapping source range:\n",
    "        seed = input_seeds.pop()\n",
    "        output_seeds.append(seed) # assume it passes straight through, we'll pop later if not\n",
    "        for src, [dest, r] in mapping.items():\n",
    "            \n",
    "            # case when no overlap\n",
    "            if seed[0] >= src + r or seed[1] < src:\n",
    "                pass\n",
    "    \n",
    "            # when overlap\n",
    "            else :\n",
    "                left_overhang = (seed[0], min(src, seed[1])-1)\n",
    "                right_overhang = (max(seed[0], src+r-1)+1, seed[1])\n",
    "                intersection = (max(seed[0], src) + dest - src, min(seed[1], src+r-1) + dest - src)\n",
    "                \n",
    "                if left_overhang[0] <= left_overhang[1]:\n",
    "                    input_seeds.append(left_overhang)\n",
    "                if right_overhang[0] <= right_overhang[1]:\n",
    "                    input_seeds.append(right_overhang)\n",
    "    \n",
    "                _ = output_seeds.pop()\n",
    "                output_seeds.append(intersection)\n",
    "    \n",
    "                break\n",
    "\n",
    "    # finally, cleanup any overlaps in the output_seed ranges:\n",
    "    # TODO  (OPTIONAL BUT EFFICIENT?)\n",
    "    \n",
    "    return output_seeds"
   ]
  },
  {
   "cell_type": "code",
   "execution_count": 85,
   "id": "ada20a10-4a9e-46aa-a25a-87047c643de7",
   "metadata": {},
   "outputs": [],
   "source": [
    "def solve(input):\n",
    "\n",
    "    # parse the initial seeds\n",
    "    seeds_pt1 = [int(a) for a in input[0][7:].split()] # for pt1\n",
    "\n",
    "    seeds_pt2 = []\n",
    "    for i in range(0, len(seeds_pt1), 2):\n",
    "        seeds_pt2.append((seeds_pt1[i], seeds_pt1[i] + seeds_pt1[i+1] - 1))\n",
    "\n",
    "    \n",
    "    mapping = {}\n",
    "    \n",
    "    for i, l in enumerate(input[3:]):\n",
    "        \n",
    "        # process the current mapping (as we have finished reading it), then reset it\n",
    "        if l == '':\n",
    "            \n",
    "            seeds_pt1 = [map_seed_pt1(seed, mapping) for seed in seeds_pt1]\n",
    "            seeds_pt2 = map_seed_pt2(seeds_pt2, mapping)\n",
    "            mapping = {}\n",
    "            \n",
    "        # append current row to the new mapping which is being built\n",
    "        elif re.match('\\d', l[0]):\n",
    "            dest, src, r = [int(a) for a in l.split()]\n",
    "            mapping[src] = [dest, r]\n",
    "    \n",
    "    # one final processing step (for the final mapping)\n",
    "    seeds_pt1 = [map_seed_pt1(seed, mapping) for seed in seeds_pt1]\n",
    "    seeds_pt2 = map_seed_pt2(seeds_pt2, mapping)\n",
    "\n",
    "    ans_1 = min(seeds_pt1)\n",
    "\n",
    "    ans_2 = min([seed[0] for seed in seeds_pt2])\n",
    "\n",
    "    return(ans_1, ans_2)"
   ]
  },
  {
   "cell_type": "code",
   "execution_count": 86,
   "id": "71cf65e9-aebd-4788-9625-288407335615",
   "metadata": {},
   "outputs": [
    {
     "name": "stdout",
     "output_type": "stream",
     "text": [
      "650599855\n",
      "1240035\n"
     ]
    }
   ],
   "source": [
    "ans_1, ans_2 = solve(input)\n",
    "print(ans_1)\n",
    "print(ans_2)\n"
   ]
  }
 ],
 "metadata": {
  "kernelspec": {
   "display_name": "Python 3 (ipykernel)",
   "language": "python",
   "name": "python3"
  },
  "language_info": {
   "codemirror_mode": {
    "name": "ipython",
    "version": 3
   },
   "file_extension": ".py",
   "mimetype": "text/x-python",
   "name": "python",
   "nbconvert_exporter": "python",
   "pygments_lexer": "ipython3",
   "version": "3.11.5"
  }
 },
 "nbformat": 4,
 "nbformat_minor": 5
}
